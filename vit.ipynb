{
 "cells": [
  {
   "cell_type": "code",
   "execution_count": null,
   "metadata": {},
   "outputs": [],
   "source": [
    "import torch\n",
    "\n",
    "from train.trainer import Trainer\n",
    "# from model.vision_transformer import VisionTransformer"
   ]
  },
  {
   "cell_type": "code",
   "execution_count": null,
   "metadata": {},
   "outputs": [],
   "source": [
    "trainer = Trainer(task_type='imagenet',\n",
    "                  data_path='./dataset',\n",
    "                  batch_size=32,\n",
    "                  epoch=1,\n",
    "                  model_name='vit',\n",
    "                  learning_rate=1e-4)"
   ]
  },
  {
   "cell_type": "code",
   "execution_count": null,
   "metadata": {},
   "outputs": [],
   "source": [
    "trainer.train()"
   ]
  },
  {
   "cell_type": "code",
   "execution_count": 8,
   "metadata": {},
   "outputs": [],
   "source": [
    "def jump(nums) -> int:\n",
    "    stack = [(0, nums[0])]\n",
    "    tab = {0:0}\n",
    "    max_reach = 0\n",
    "    while stack!=[]:\n",
    "        idx, step = stack.pop()\n",
    "        if idx+step>=len(nums)-1:\n",
    "            return tab[idx] + 1\n",
    "        if idx+step<max_reach:\n",
    "            continue\n",
    "        for i in range(max_reach+1, idx+step+1):\n",
    "            tab[i] = tab[idx] + 1\n",
    "            stack.append((i, nums[i]))\n",
    "        max_reach = idx+step\n",
    "    return tab[len(nums)-1]\n",
    "jump([2,3,1,1,4])"
   ]
  }
 ],
 "metadata": {
  "kernelspec": {
   "display_name": "base",
   "language": "python",
   "name": "python3"
  },
  "language_info": {
   "codemirror_mode": {
    "name": "ipython",
    "version": 3
   },
   "file_extension": ".py",
   "mimetype": "text/x-python",
   "name": "python",
   "nbconvert_exporter": "python",
   "pygments_lexer": "ipython3",
   "version": "3.11.5"
  }
 },
 "nbformat": 4,
 "nbformat_minor": 2
}
