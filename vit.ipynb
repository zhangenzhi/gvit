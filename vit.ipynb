{
 "cells": [
  {
   "cell_type": "code",
   "execution_count": 1,
   "metadata": {},
   "outputs": [
    {
     "name": "stderr",
     "output_type": "stream",
     "text": [
      "/opt/conda/lib/python3.10/site-packages/tqdm/auto.py:22: TqdmWarning: IProgress not found. Please update jupyter and ipywidgets. See https://ipywidgets.readthedocs.io/en/stable/user_install.html\n",
      "  from .autonotebook import tqdm as notebook_tqdm\n"
     ]
    }
   ],
   "source": [
    "import torch\n",
    "\n",
    "from train.trainer import Trainer\n",
    "# from model.vision_transformer import VisionTransformer"
   ]
  },
  {
   "cell_type": "code",
   "execution_count": 2,
   "metadata": {},
   "outputs": [
    {
     "name": "stdout",
     "output_type": "stream",
     "text": [
      "Devices found 8.\n"
     ]
    }
   ],
   "source": [
    "trainer = Trainer(task_type='imagenet',\n",
    "                  data_path='./dataset',\n",
    "                  batch_size=32,\n",
    "                  epoch=1,\n",
    "                  model_name='vit',\n",
    "                  learning_rate=1e-4)"
   ]
  },
  {
   "cell_type": "code",
   "execution_count": 3,
   "metadata": {},
   "outputs": [
    {
     "name": "stdout",
     "output_type": "stream",
     "text": [
      "Step 0, train loss: 6.9077558517456055.\n",
      "Step 100, train loss: 7.202465057373047.\n",
      "Step 200, train loss: 7.090746879577637.\n",
      "Step 300, train loss: 7.177873611450195.\n",
      "Step 400, train loss: 6.989001750946045.\n",
      "Step 500, train loss: 7.042306423187256.\n",
      "Step 600, train loss: 6.977315425872803.\n",
      "Step 700, train loss: 6.9094038009643555.\n",
      "Step 800, train loss: 6.9972639083862305.\n",
      "Step 900, train loss: 6.969274520874023.\n",
      "Step 1000, train loss: 6.942281246185303.\n",
      "Step 1100, train loss: 6.984424114227295.\n",
      "Step 1200, train loss: 6.925559043884277.\n",
      "Step 1300, train loss: 6.963386535644531.\n"
     ]
    }
   ],
   "source": [
    "trainer.train()"
   ]
  },
  {
   "cell_type": "code",
   "execution_count": null,
   "metadata": {},
   "outputs": [],
   "source": []
  }
 ],
 "metadata": {
  "kernelspec": {
   "display_name": "base",
   "language": "python",
   "name": "python3"
  },
  "language_info": {
   "codemirror_mode": {
    "name": "ipython",
    "version": 3
   },
   "file_extension": ".py",
   "mimetype": "text/x-python",
   "name": "python",
   "nbconvert_exporter": "python",
   "pygments_lexer": "ipython3",
   "version": "3.10.8"
  }
 },
 "nbformat": 4,
 "nbformat_minor": 2
}
